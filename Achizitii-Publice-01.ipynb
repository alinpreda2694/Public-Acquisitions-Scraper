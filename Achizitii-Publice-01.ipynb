{
 "cells": [
  {
   "cell_type": "markdown",
   "metadata": {},
   "source": [
    "# Scraper Detalii Achizitii Publice\n",
    "\n",
    "#### Realizari: \n",
    "\n",
    "Am reusit sa returnez cam tot textul relevant pentru o pagina detaliata de achizitii publice. \n",
    "\n",
    "#### Observatii: \n",
    "\n",
    "Informatia este foarte imprastiata pe site in tot felul de HTML tags si clase; \n",
    "Unele chestii precum denumirea partilor nu apar ca text;\n",
    "Mare parte din text contine multe spatii de tip \\t sau \\n sau \" \";\n",
    "Trebuie curatate datele putin dar sunt complete.\n",
    "\n",
    "#### Future goals:\n",
    "\n",
    "Sa parcurgem linkurile si sa stocam datele intr-un format standardizat. \n",
    "\n",
    "### Importam module utile"
   ]
  },
  {
   "cell_type": "code",
   "execution_count": null,
   "metadata": {
    "code_folding": [
     0
    ]
   },
   "outputs": [],
   "source": [
    "################################################################################################################\n",
    "\n",
    "import time\n",
    "\n",
    "# Core of scraping\n",
    "import requests\n",
    "from os.path import join as pjoin\n",
    "from bs4 import BeautifulSoup\n",
    "\n",
    "# For applying a random sleep interval between requests  \n",
    "from random import randint \n",
    "from time import sleep\n",
    "\n",
    "# Need these in order to simulate human activity in Chrome/Firefox browser (clicking)\n",
    "from selenium import webdriver\n",
    "from selenium.webdriver.common.by import By\n",
    "from selenium.webdriver.support.ui import WebDriverWait\n",
    "from selenium.webdriver.support import expected_conditions as ec\n",
    "\n",
    "# Regex\n",
    "import regex as re\n",
    "import os \n",
    "import sys\n",
    "\n",
    "# Zip\n",
    "import gzip\n",
    "import shutil\n",
    "\n",
    "# Needed for turning the date to datetime values\n",
    "import datetime as dt\n",
    "\n",
    "# Dataframes\n",
    "import pandas as pd\n",
    "\n",
    "# Twilio enables us to send SMS\n",
    "from twilio.rest import Client\n"
   ]
  },
  {
   "cell_type": "markdown",
   "metadata": {},
   "source": [
    "### URL-ul de interes"
   ]
  },
  {
   "cell_type": "code",
   "execution_count": 90,
   "metadata": {},
   "outputs": [],
   "source": [
    "################################################################################################################\n",
    "\n",
    "# URLS we need these specific URLs in order to run te program correctly. Do not change this !\n",
    "#get_the_data_url = \"https://www.e-licitatie.ro/pub/direct-acquisitions/list/1\"\n",
    "get_the_data_url = \"https://www.e-licitatie.ro/pub/direct-acquisition/view/104273557\"\n",
    "\n",
    "################################################################################################################"
   ]
  },
  {
   "cell_type": "markdown",
   "metadata": {},
   "source": [
    "### Helper functions"
   ]
  },
  {
   "cell_type": "code",
   "execution_count": 79,
   "metadata": {
    "code_folding": [
     0
    ]
   },
   "outputs": [],
   "source": [
    "################################################################################################################\n",
    "\n",
    "def try_connecting(get_the_data_url):\n",
    "    while True:\n",
    "        try:\n",
    "            source_code = requests.get(get_the_data_url, timeout = 30, verify=False)\n",
    "            return (source_code)\n",
    "        except (requests.ConnectionError) as e:\n",
    "            print(\"OOPS!! Connection Error. Make sure you are connected to Internet. Technical Details given below.\\n\")\n",
    "            print(str(e))            \n",
    "            continue\n",
    "        except (requests.Timeout) as e:\n",
    "            print(\"OOPS!! Timeout Error\")\n",
    "            print(str(e))\n",
    "            continue\n",
    "        except (requests.RequestException) as e:\n",
    "            print(\"OOPS!! General Error\")\n",
    "            print(str(e))\n",
    "            continue\n",
    "        except (KeyboardInterrupt):\n",
    "            print(\"Someone closed the program\")\n",
    "        break\n",
    "\n",
    "################################################################################################################"
   ]
  },
  {
   "cell_type": "markdown",
   "metadata": {},
   "source": [
    "### Request source code and create Soup"
   ]
  },
  {
   "cell_type": "code",
   "execution_count": 80,
   "metadata": {},
   "outputs": [
    {
     "name": "stderr",
     "output_type": "stream",
     "text": [
      "C:\\Users\\aleen\\AppData\\Local\\Continuum\\anaconda3\\lib\\site-packages\\urllib3\\connectionpool.py:847: InsecureRequestWarning: Unverified HTTPS request is being made. Adding certificate verification is strongly advised. See: https://urllib3.readthedocs.io/en/latest/advanced-usage.html#ssl-warnings\n",
      "  InsecureRequestWarning)\n"
     ]
    }
   ],
   "source": [
    "# Source code \n",
    "source_code = try_connecting(get_the_data_url)\n",
    "soup = BeautifulSoup(source_code, 'html.parser')\n",
    "\n",
    "# Getting source code \n",
    "plain_text = source_code.text"
   ]
  },
  {
   "cell_type": "markdown",
   "metadata": {},
   "source": [
    "### Selenium package (Optional)"
   ]
  },
  {
   "cell_type": "code",
   "execution_count": 91,
   "metadata": {},
   "outputs": [],
   "source": [
    "# Selenium driver\n",
    "driver = webdriver.Firefox() # Firefox Driver\n",
    "driver.get(get_the_data_url)"
   ]
  },
  {
   "cell_type": "code",
   "execution_count": 92,
   "metadata": {},
   "outputs": [],
   "source": [
    "# New source code from driver\n",
    "source_code = driver.page_source\n",
    "soup = BeautifulSoup(source_code, 'html.parser')"
   ]
  },
  {
   "cell_type": "markdown",
   "metadata": {},
   "source": [
    "# Data Mining\n",
    "\n",
    "# Section 0:"
   ]
  },
  {
   "cell_type": "code",
   "execution_count": 162,
   "metadata": {},
   "outputs": [
    {
     "data": {
      "text/plain": [
       "'cumparare directa: [nr] -  DA23884765'"
      ]
     },
     "execution_count": 162,
     "metadata": {},
     "output_type": "execute_result"
    }
   ],
   "source": [
    "# Seria tranzactiei (ID)\n",
    "h1 = soup.find(\"h1\", {\"class\": \"ng-binding\"})\n",
    "h1.text"
   ]
  },
  {
   "cell_type": "code",
   "execution_count": 173,
   "metadata": {},
   "outputs": [
    {
     "name": "stdout",
     "output_type": "stream",
     "text": [
      "\n",
      "\n",
      "                    Data publicare: 18.09.2019 09:36\n",
      "                \n",
      "\n",
      "\n",
      "                    Data finalizare: 18.09.2019 12:33\n",
      "                \n"
     ]
    }
   ],
   "source": [
    "# Data publicarii si finalizarii \n",
    "fa = soup.findAll(\"span\", {\"class\": \"ng-binding\"})\n",
    "#for f in fa:\n",
    "  #  print(f.text,\"######################\")\n",
    "print(fa[37].text)\n",
    "print(fa[38].text)"
   ]
  },
  {
   "cell_type": "markdown",
   "metadata": {},
   "source": [
    "# Section 1: Date de identificare ofertant/autoritate contractanta"
   ]
  },
  {
   "cell_type": "code",
   "execution_count": 157,
   "metadata": {},
   "outputs": [
    {
     "name": "stdout",
     "output_type": "stream",
     "text": [
      "\n",
      "                24332317\n",
      "             #######################\n",
      " Strada: Mărgeanului, nr. 8, Sector: 5, Judet: Bucuresti, Localitate: Bucuresti, Cod postal: 051041 #######################\n",
      "Romania #######################\n",
      "- #######################\n",
      "+40 214211860/+40 0722654017 #######################\n",
      "+40 214201860 #######################\n",
      " doringirleanu@yahoo.com #######################\n",
      "\n",
      "                4192910\n",
      "             #######################\n",
      " Strada: Lupu Dionisie, nr. 37, Sector: 2, Judet: Bucuresti, Localitate: Bucuresti, Cod postal: 020021 #######################\n",
      "- #######################\n",
      "+40 0213180736 #######################\n",
      "+40 0213180736 #######################\n",
      "dapmf@umfcd.ro #######################\n"
     ]
    }
   ],
   "source": [
    "# Nu apare denumirea dar apare CIFul\n",
    "# Apare adresa intreaga, nu pe bucati, Tara separat\n",
    "# Date de contact\n",
    "span = soup.findAll(\"span\", {\"class\": \"u-displayfield__field ng-binding\"})\n",
    "for s in span:\n",
    "    print(s.text,\"#######################\")"
   ]
  },
  {
   "cell_type": "markdown",
   "metadata": {},
   "source": [
    "# Section 2: Detalii de achizitie"
   ]
  },
  {
   "cell_type": "code",
   "execution_count": 156,
   "metadata": {},
   "outputs": [
    {
     "name": "stdout",
     "output_type": "stream",
     "text": [
      "31531000-7 - Becuri (Rev.2) #######################\n",
      "Furnizare #######################\n",
      "\n",
      "\n",
      "Nu\n",
      " #######################\n",
      "39,50  RON (8,34  EUR) #######################\n",
      "39,50  RON (8,34  EUR) #######################\n",
      " RON ( EUR) | % #######################\n",
      "\n",
      " RON ( EUR) |\n",
      "                                %\n",
      " #######################\n",
      "18.09.2019 11:20 #######################\n",
      "18.09.2019 12:33 #######################\n",
      " din  #######################\n"
     ]
    }
   ],
   "source": [
    "# Asta are data finalizarii, data inaintarii\n",
    "# Cod si denumire CPV (3155...)\n",
    "# Tip de contract\n",
    "# Finantare prin fonduri UE: Da/Nu\n",
    "# Valoare cumparare directa \n",
    "# Valoare in RON si Euro\n",
    "\n",
    "ngbinding = soup.findAll(\"div\", {\"class\": \"indent\"})\n",
    "\n",
    "for c in ngbinding:\n",
    "    print(c.text,\"#######################\")"
   ]
  },
  {
   "cell_type": "code",
   "execution_count": 152,
   "metadata": {},
   "outputs": [
    {
     "name": "stdout",
     "output_type": "stream",
     "text": [
      "Oferta acceptata #######################\n",
      "Romania #######################\n",
      "Livrarea produselor se va face in termen de 30 zil... mai departee de la data acceptarii ofertei de catre autoritatea contractanta, conditiile DDP, la UMF “Carol Davila” – Depozitul de materiale Bdul Eroii Sanitari, nr.8, Sector 5, Bucuresti mai putin #######################\n",
      "Plata produselor se va face in lei, in termen de 3... mai departe0 de zile de la data primirii facturii ,                       \tdupa receptia produselor. mai putin #######################\n",
      "Nu #######################\n",
      "\n",
      "                                    1\n",
      "                                 #######################\n",
      "\n",
      "                                    39,50 \n",
      "                                 #######################\n"
     ]
    }
   ],
   "source": [
    "th = soup.findAll(\"th\", {\"class\": \"s-center\"})\n",
    "for t in ngbinding:\n",
    "    print(t.text,\"#######################\")"
   ]
  },
  {
   "cell_type": "code",
   "execution_count": 153,
   "metadata": {},
   "outputs": [
    {
     "name": "stdout",
     "output_type": "stream",
     "text": [
      "Oferta acceptata #######################\n",
      "Romania #######################\n",
      "Livrarea produselor se va face in termen de 30 zil... mai departee de la data acceptarii ofertei de catre autoritatea contractanta, conditiile DDP, la UMF “Carol Davila” – Depozitul de materiale Bdul Eroii Sanitari, nr.8, Sector 5, Bucuresti mai putin #######################\n",
      "Plata produselor se va face in lei, in termen de 3... mai departe0 de zile de la data primirii facturii ,                       \tdupa receptia produselor. mai putin #######################\n",
      "Nu #######################\n",
      "\n",
      "                                    1\n",
      "                                 #######################\n",
      "\n",
      "                                    39,50 \n",
      "                                 #######################\n"
     ]
    }
   ],
   "source": [
    "# Asta scoate exact ce se intampla cu oferta (acceptata/nu)\n",
    "# Stie detaliile contractului\n",
    "# Stie si cantitatea si pretul/unitate\n",
    "\n",
    "ngbinding = soup.findAll(\"span\", {\"class\": \"ng-scope\"})\n",
    "for c in ngbinding:\n",
    "    print(c.text,\"#######################\")"
   ]
  },
  {
   "cell_type": "markdown",
   "metadata": {},
   "source": [
    "# Section 3: Repere achizitionate"
   ]
  },
  {
   "cell_type": "code",
   "execution_count": 147,
   "metadata": {},
   "outputs": [
    {
     "name": "stdout",
     "output_type": "stream",
     "text": [
      "Solicitata autoritate / entitate #######################\n",
      "Ofertata operator #######################\n",
      "1 #######################\n",
      "\n",
      "\n",
      "                                    1\n",
      "                                \n",
      "\n",
      " #######################\n"
     ]
    }
   ],
   "source": [
    "# Asta e pentru cantitate...\n",
    "\n",
    "td = soup.findAll(\"td\", {\"class\": \"col-color-1 ng-binding\"})\n",
    "for t in td: # OBS: Daca punem ngg-binding avem si textul standard din tabel\n",
    "    print(t.text,\"#######################\")"
   ]
  },
  {
   "cell_type": "code",
   "execution_count": 151,
   "metadata": {},
   "outputs": [
    {
     "name": "stdout",
     "output_type": "stream",
     "text": [
      "39,50   #######################\n",
      "\n",
      "                                39,50 \n",
      "                             #######################\n"
     ]
    }
   ],
   "source": [
    "# Asta e pentru pret(ron) l...\n",
    "\n",
    "#td = soup.findAll(\"td\", {\"class\": \"col-color-2 ng-binding\"})\n",
    "td = soup.findAll(\"td\", {\"class\": \"col-color-2 ng-binding\"})\n",
    "for t in td: \n",
    "    print(t.text,\"#######################\")"
   ]
  },
  {
   "cell_type": "code",
   "execution_count": 146,
   "metadata": {},
   "outputs": [
    {
     "name": "stdout",
     "output_type": "stream",
     "text": [
      "\n",
      "                                39,50 \n",
      "                             #######################\n",
      "\n",
      "                                39,50 \n",
      "                             #######################\n",
      "\n",
      "                                39,50 \n",
      "                             #######################\n",
      "\n",
      "                                39,50 \n",
      "                             #######################\n",
      "\n",
      "                                39,50 \n",
      "                             #######################\n",
      "\n",
      "                                39,50 \n",
      "                             #######################\n"
     ]
    }
   ],
   "source": [
    "# Asta e pentru pret(ron), valoare si valori totale\n",
    "\n",
    "valoare = soup.findAll(\"td\", {\"class\": \"col-color-3\"})\n",
    "\n",
    "for v in valoare:\n",
    "    print(t.text,\"#######################\")"
   ]
  },
  {
   "cell_type": "code",
   "execution_count": 158,
   "metadata": {},
   "outputs": [
    {
     "name": "stdout",
     "output_type": "stream",
     "text": [
      "TS100/820 #######################\n",
      "39,50  RON / Unitate de masura #######################\n",
      "BUC #######################\n",
      "31531000-7 Becuri (Rev.2) #######################\n",
      " #######################\n"
     ]
    }
   ],
   "source": [
    "# JOSUL PAGINII\n",
    "\n",
    "#Numar de referinta, pret de catalog, etc. \n",
    "repere = soup.findAll(\"b\", {\"class\": \"ng-binding\"})\n",
    "for r in repere:\n",
    "    print(r.text,\"#######################\")\n",
    "    "
   ]
  },
  {
   "cell_type": "code",
   "execution_count": 159,
   "metadata": {},
   "outputs": [
    {
     "name": "stdout",
     "output_type": "stream",
     "text": [
      "BEC CU VAPORI DE SODIU PHILIPS 100W,DULIE E40 HID TS100/820 #######################\n",
      "Livrarea produselor se va face in termen de 30 zil... mai departee de la data acceptarii ofertei de catre autoritatea contractanta, conditiile DDP, la UMF “Carol Davila” – Depozitul de materiale Bdul Eroii Sanitari, nr.8, Sector 5, Bucuresti mai putin #######################\n",
      "Plata produselor se va face in lei, in termen de 3... mai departe0 de zile de la data primirii facturii ,                       \tdupa receptia produselor. mai putin #######################\n",
      "BEC PE BAZA DE VAPORI DE SODIU PHILIPS PIA SON MASTERS 100 W,DULIE MARE E40. #######################\n"
     ]
    }
   ],
   "source": [
    "# MIXT\n",
    "\n",
    "# Aici avem produs, livrare, plata, descriere \n",
    "random = soup.findAll(\"p\", {\"class\": \"ng-isolate-scope\"})\n",
    "for b in random:\n",
    "    print(b.text,\"#######################\")"
   ]
  },
  {
   "cell_type": "markdown",
   "metadata": {},
   "source": [
    "# Pagina principala cu lista de acchizitii"
   ]
  },
  {
   "cell_type": "code",
   "execution_count": 101,
   "metadata": {},
   "outputs": [],
   "source": [
    "def show_many_show_more(driver, aquisitions_list):\n",
    "    for aquisition in aquisitions_list: \n",
    "        driver.find_element_by_class_name('title-entity ng-binding')"
   ]
  },
  {
   "cell_type": "code",
   "execution_count": 102,
   "metadata": {},
   "outputs": [
    {
     "ename": "NameError",
     "evalue": "name 'aquisitions_list' is not defined",
     "output_type": "error",
     "traceback": [
      "\u001b[1;31m---------------------------------------------------------------------------\u001b[0m",
      "\u001b[1;31mNameError\u001b[0m                                 Traceback (most recent call last)",
      "\u001b[1;32m<ipython-input-102-bee9761f50b5>\u001b[0m in \u001b[0;36m<module>\u001b[1;34m\u001b[0m\n\u001b[1;32m----> 1\u001b[1;33m \u001b[1;32mfor\u001b[0m \u001b[0maquisition\u001b[0m \u001b[1;32min\u001b[0m \u001b[0maquisitions_list\u001b[0m\u001b[1;33m:\u001b[0m\u001b[1;33m\u001b[0m\u001b[1;33m\u001b[0m\u001b[0m\n\u001b[0m\u001b[0;32m      2\u001b[0m     \u001b[0mdriver\u001b[0m\u001b[1;33m.\u001b[0m\u001b[0mfind_element_by_class_name\u001b[0m\u001b[1;33m(\u001b[0m\u001b[1;34m'title-entity ng-binding'\u001b[0m\u001b[1;33m)\u001b[0m\u001b[1;33m\u001b[0m\u001b[1;33m\u001b[0m\u001b[0m\n",
      "\u001b[1;31mNameError\u001b[0m: name 'aquisitions_list' is not defined"
     ]
    }
   ],
   "source": [
    "for aquisition in aquisitions_list: \n",
    "    driver.find_element_by_class_name('title-entity ng-binding')"
   ]
  },
  {
   "cell_type": "code",
   "execution_count": 103,
   "metadata": {},
   "outputs": [
    {
     "ename": "NoSuchElementException",
     "evalue": "Message: Unable to locate element: .title-entity ng-binding\n",
     "output_type": "error",
     "traceback": [
      "\u001b[1;31m---------------------------------------------------------------------------\u001b[0m",
      "\u001b[1;31mNoSuchElementException\u001b[0m                    Traceback (most recent call last)",
      "\u001b[1;32m<ipython-input-103-6b356903465c>\u001b[0m in \u001b[0;36m<module>\u001b[1;34m\u001b[0m\n\u001b[1;32m----> 1\u001b[1;33m \u001b[0mdriver\u001b[0m\u001b[1;33m.\u001b[0m\u001b[0mfind_element_by_class_name\u001b[0m\u001b[1;33m(\u001b[0m\u001b[1;34m'title-entity ng-binding'\u001b[0m\u001b[1;33m)\u001b[0m\u001b[1;33m\u001b[0m\u001b[1;33m\u001b[0m\u001b[0m\n\u001b[0m",
      "\u001b[1;32m~\\AppData\\Local\\Continuum\\anaconda3\\lib\\site-packages\\selenium\\webdriver\\remote\\webdriver.py\u001b[0m in \u001b[0;36mfind_element_by_class_name\u001b[1;34m(self, name)\u001b[0m\n\u001b[0;32m    562\u001b[0m             \u001b[0melement\u001b[0m \u001b[1;33m=\u001b[0m \u001b[0mdriver\u001b[0m\u001b[1;33m.\u001b[0m\u001b[0mfind_element_by_class_name\u001b[0m\u001b[1;33m(\u001b[0m\u001b[1;34m'foo'\u001b[0m\u001b[1;33m)\u001b[0m\u001b[1;33m\u001b[0m\u001b[1;33m\u001b[0m\u001b[0m\n\u001b[0;32m    563\u001b[0m         \"\"\"\n\u001b[1;32m--> 564\u001b[1;33m         \u001b[1;32mreturn\u001b[0m \u001b[0mself\u001b[0m\u001b[1;33m.\u001b[0m\u001b[0mfind_element\u001b[0m\u001b[1;33m(\u001b[0m\u001b[0mby\u001b[0m\u001b[1;33m=\u001b[0m\u001b[0mBy\u001b[0m\u001b[1;33m.\u001b[0m\u001b[0mCLASS_NAME\u001b[0m\u001b[1;33m,\u001b[0m \u001b[0mvalue\u001b[0m\u001b[1;33m=\u001b[0m\u001b[0mname\u001b[0m\u001b[1;33m)\u001b[0m\u001b[1;33m\u001b[0m\u001b[1;33m\u001b[0m\u001b[0m\n\u001b[0m\u001b[0;32m    565\u001b[0m \u001b[1;33m\u001b[0m\u001b[0m\n\u001b[0;32m    566\u001b[0m     \u001b[1;32mdef\u001b[0m \u001b[0mfind_elements_by_class_name\u001b[0m\u001b[1;33m(\u001b[0m\u001b[0mself\u001b[0m\u001b[1;33m,\u001b[0m \u001b[0mname\u001b[0m\u001b[1;33m)\u001b[0m\u001b[1;33m:\u001b[0m\u001b[1;33m\u001b[0m\u001b[1;33m\u001b[0m\u001b[0m\n",
      "\u001b[1;32m~\\AppData\\Local\\Continuum\\anaconda3\\lib\\site-packages\\selenium\\webdriver\\remote\\webdriver.py\u001b[0m in \u001b[0;36mfind_element\u001b[1;34m(self, by, value)\u001b[0m\n\u001b[0;32m    976\u001b[0m         return self.execute(Command.FIND_ELEMENT, {\n\u001b[0;32m    977\u001b[0m             \u001b[1;34m'using'\u001b[0m\u001b[1;33m:\u001b[0m \u001b[0mby\u001b[0m\u001b[1;33m,\u001b[0m\u001b[1;33m\u001b[0m\u001b[1;33m\u001b[0m\u001b[0m\n\u001b[1;32m--> 978\u001b[1;33m             'value': value})['value']\n\u001b[0m\u001b[0;32m    979\u001b[0m \u001b[1;33m\u001b[0m\u001b[0m\n\u001b[0;32m    980\u001b[0m     \u001b[1;32mdef\u001b[0m \u001b[0mfind_elements\u001b[0m\u001b[1;33m(\u001b[0m\u001b[0mself\u001b[0m\u001b[1;33m,\u001b[0m \u001b[0mby\u001b[0m\u001b[1;33m=\u001b[0m\u001b[0mBy\u001b[0m\u001b[1;33m.\u001b[0m\u001b[0mID\u001b[0m\u001b[1;33m,\u001b[0m \u001b[0mvalue\u001b[0m\u001b[1;33m=\u001b[0m\u001b[1;32mNone\u001b[0m\u001b[1;33m)\u001b[0m\u001b[1;33m:\u001b[0m\u001b[1;33m\u001b[0m\u001b[1;33m\u001b[0m\u001b[0m\n",
      "\u001b[1;32m~\\AppData\\Local\\Continuum\\anaconda3\\lib\\site-packages\\selenium\\webdriver\\remote\\webdriver.py\u001b[0m in \u001b[0;36mexecute\u001b[1;34m(self, driver_command, params)\u001b[0m\n\u001b[0;32m    319\u001b[0m         \u001b[0mresponse\u001b[0m \u001b[1;33m=\u001b[0m \u001b[0mself\u001b[0m\u001b[1;33m.\u001b[0m\u001b[0mcommand_executor\u001b[0m\u001b[1;33m.\u001b[0m\u001b[0mexecute\u001b[0m\u001b[1;33m(\u001b[0m\u001b[0mdriver_command\u001b[0m\u001b[1;33m,\u001b[0m \u001b[0mparams\u001b[0m\u001b[1;33m)\u001b[0m\u001b[1;33m\u001b[0m\u001b[1;33m\u001b[0m\u001b[0m\n\u001b[0;32m    320\u001b[0m         \u001b[1;32mif\u001b[0m \u001b[0mresponse\u001b[0m\u001b[1;33m:\u001b[0m\u001b[1;33m\u001b[0m\u001b[1;33m\u001b[0m\u001b[0m\n\u001b[1;32m--> 321\u001b[1;33m             \u001b[0mself\u001b[0m\u001b[1;33m.\u001b[0m\u001b[0merror_handler\u001b[0m\u001b[1;33m.\u001b[0m\u001b[0mcheck_response\u001b[0m\u001b[1;33m(\u001b[0m\u001b[0mresponse\u001b[0m\u001b[1;33m)\u001b[0m\u001b[1;33m\u001b[0m\u001b[1;33m\u001b[0m\u001b[0m\n\u001b[0m\u001b[0;32m    322\u001b[0m             response['value'] = self._unwrap_value(\n\u001b[0;32m    323\u001b[0m                 response.get('value', None))\n",
      "\u001b[1;32m~\\AppData\\Local\\Continuum\\anaconda3\\lib\\site-packages\\selenium\\webdriver\\remote\\errorhandler.py\u001b[0m in \u001b[0;36mcheck_response\u001b[1;34m(self, response)\u001b[0m\n\u001b[0;32m    240\u001b[0m                 \u001b[0malert_text\u001b[0m \u001b[1;33m=\u001b[0m \u001b[0mvalue\u001b[0m\u001b[1;33m[\u001b[0m\u001b[1;34m'alert'\u001b[0m\u001b[1;33m]\u001b[0m\u001b[1;33m.\u001b[0m\u001b[0mget\u001b[0m\u001b[1;33m(\u001b[0m\u001b[1;34m'text'\u001b[0m\u001b[1;33m)\u001b[0m\u001b[1;33m\u001b[0m\u001b[1;33m\u001b[0m\u001b[0m\n\u001b[0;32m    241\u001b[0m             \u001b[1;32mraise\u001b[0m \u001b[0mexception_class\u001b[0m\u001b[1;33m(\u001b[0m\u001b[0mmessage\u001b[0m\u001b[1;33m,\u001b[0m \u001b[0mscreen\u001b[0m\u001b[1;33m,\u001b[0m \u001b[0mstacktrace\u001b[0m\u001b[1;33m,\u001b[0m \u001b[0malert_text\u001b[0m\u001b[1;33m)\u001b[0m\u001b[1;33m\u001b[0m\u001b[1;33m\u001b[0m\u001b[0m\n\u001b[1;32m--> 242\u001b[1;33m         \u001b[1;32mraise\u001b[0m \u001b[0mexception_class\u001b[0m\u001b[1;33m(\u001b[0m\u001b[0mmessage\u001b[0m\u001b[1;33m,\u001b[0m \u001b[0mscreen\u001b[0m\u001b[1;33m,\u001b[0m \u001b[0mstacktrace\u001b[0m\u001b[1;33m)\u001b[0m\u001b[1;33m\u001b[0m\u001b[1;33m\u001b[0m\u001b[0m\n\u001b[0m\u001b[0;32m    243\u001b[0m \u001b[1;33m\u001b[0m\u001b[0m\n\u001b[0;32m    244\u001b[0m     \u001b[1;32mdef\u001b[0m \u001b[0m_value_or_default\u001b[0m\u001b[1;33m(\u001b[0m\u001b[0mself\u001b[0m\u001b[1;33m,\u001b[0m \u001b[0mobj\u001b[0m\u001b[1;33m,\u001b[0m \u001b[0mkey\u001b[0m\u001b[1;33m,\u001b[0m \u001b[0mdefault\u001b[0m\u001b[1;33m)\u001b[0m\u001b[1;33m:\u001b[0m\u001b[1;33m\u001b[0m\u001b[1;33m\u001b[0m\u001b[0m\n",
      "\u001b[1;31mNoSuchElementException\u001b[0m: Message: Unable to locate element: .title-entity ng-binding\n"
     ]
    }
   ],
   "source": [
    "driver.find_element_by_class_name('title-entity ng-binding')"
   ]
  },
  {
   "cell_type": "code",
   "execution_count": 70,
   "metadata": {},
   "outputs": [
    {
     "ename": "NoSuchElementException",
     "evalue": "Message: Unable to locate element: ng-click\n",
     "output_type": "error",
     "traceback": [
      "\u001b[1;31m---------------------------------------------------------------------------\u001b[0m",
      "\u001b[1;31mNoSuchElementException\u001b[0m                    Traceback (most recent call last)",
      "\u001b[1;32m<ipython-input-70-eeab1b896541>\u001b[0m in \u001b[0;36m<module>\u001b[1;34m\u001b[0m\n\u001b[1;32m----> 1\u001b[1;33m \u001b[0mdriver\u001b[0m\u001b[1;33m.\u001b[0m\u001b[0mfind_element\u001b[0m\u001b[1;33m(\u001b[0m\u001b[0mBy\u001b[0m\u001b[1;33m.\u001b[0m\u001b[0mPARTIAL_LINK_TEXT\u001b[0m\u001b[1;33m,\u001b[0m\u001b[1;34m\"ng-click\"\u001b[0m\u001b[1;33m)\u001b[0m\u001b[1;33m.\u001b[0m\u001b[0mclick\u001b[0m\u001b[1;33m(\u001b[0m\u001b[1;33m)\u001b[0m\u001b[1;33m\u001b[0m\u001b[1;33m\u001b[0m\u001b[0m\n\u001b[0m",
      "\u001b[1;32m~\\AppData\\Local\\Continuum\\anaconda3\\lib\\site-packages\\selenium\\webdriver\\remote\\webdriver.py\u001b[0m in \u001b[0;36mfind_element\u001b[1;34m(self, by, value)\u001b[0m\n\u001b[0;32m    976\u001b[0m         return self.execute(Command.FIND_ELEMENT, {\n\u001b[0;32m    977\u001b[0m             \u001b[1;34m'using'\u001b[0m\u001b[1;33m:\u001b[0m \u001b[0mby\u001b[0m\u001b[1;33m,\u001b[0m\u001b[1;33m\u001b[0m\u001b[1;33m\u001b[0m\u001b[0m\n\u001b[1;32m--> 978\u001b[1;33m             'value': value})['value']\n\u001b[0m\u001b[0;32m    979\u001b[0m \u001b[1;33m\u001b[0m\u001b[0m\n\u001b[0;32m    980\u001b[0m     \u001b[1;32mdef\u001b[0m \u001b[0mfind_elements\u001b[0m\u001b[1;33m(\u001b[0m\u001b[0mself\u001b[0m\u001b[1;33m,\u001b[0m \u001b[0mby\u001b[0m\u001b[1;33m=\u001b[0m\u001b[0mBy\u001b[0m\u001b[1;33m.\u001b[0m\u001b[0mID\u001b[0m\u001b[1;33m,\u001b[0m \u001b[0mvalue\u001b[0m\u001b[1;33m=\u001b[0m\u001b[1;32mNone\u001b[0m\u001b[1;33m)\u001b[0m\u001b[1;33m:\u001b[0m\u001b[1;33m\u001b[0m\u001b[1;33m\u001b[0m\u001b[0m\n",
      "\u001b[1;32m~\\AppData\\Local\\Continuum\\anaconda3\\lib\\site-packages\\selenium\\webdriver\\remote\\webdriver.py\u001b[0m in \u001b[0;36mexecute\u001b[1;34m(self, driver_command, params)\u001b[0m\n\u001b[0;32m    319\u001b[0m         \u001b[0mresponse\u001b[0m \u001b[1;33m=\u001b[0m \u001b[0mself\u001b[0m\u001b[1;33m.\u001b[0m\u001b[0mcommand_executor\u001b[0m\u001b[1;33m.\u001b[0m\u001b[0mexecute\u001b[0m\u001b[1;33m(\u001b[0m\u001b[0mdriver_command\u001b[0m\u001b[1;33m,\u001b[0m \u001b[0mparams\u001b[0m\u001b[1;33m)\u001b[0m\u001b[1;33m\u001b[0m\u001b[1;33m\u001b[0m\u001b[0m\n\u001b[0;32m    320\u001b[0m         \u001b[1;32mif\u001b[0m \u001b[0mresponse\u001b[0m\u001b[1;33m:\u001b[0m\u001b[1;33m\u001b[0m\u001b[1;33m\u001b[0m\u001b[0m\n\u001b[1;32m--> 321\u001b[1;33m             \u001b[0mself\u001b[0m\u001b[1;33m.\u001b[0m\u001b[0merror_handler\u001b[0m\u001b[1;33m.\u001b[0m\u001b[0mcheck_response\u001b[0m\u001b[1;33m(\u001b[0m\u001b[0mresponse\u001b[0m\u001b[1;33m)\u001b[0m\u001b[1;33m\u001b[0m\u001b[1;33m\u001b[0m\u001b[0m\n\u001b[0m\u001b[0;32m    322\u001b[0m             response['value'] = self._unwrap_value(\n\u001b[0;32m    323\u001b[0m                 response.get('value', None))\n",
      "\u001b[1;32m~\\AppData\\Local\\Continuum\\anaconda3\\lib\\site-packages\\selenium\\webdriver\\remote\\errorhandler.py\u001b[0m in \u001b[0;36mcheck_response\u001b[1;34m(self, response)\u001b[0m\n\u001b[0;32m    240\u001b[0m                 \u001b[0malert_text\u001b[0m \u001b[1;33m=\u001b[0m \u001b[0mvalue\u001b[0m\u001b[1;33m[\u001b[0m\u001b[1;34m'alert'\u001b[0m\u001b[1;33m]\u001b[0m\u001b[1;33m.\u001b[0m\u001b[0mget\u001b[0m\u001b[1;33m(\u001b[0m\u001b[1;34m'text'\u001b[0m\u001b[1;33m)\u001b[0m\u001b[1;33m\u001b[0m\u001b[1;33m\u001b[0m\u001b[0m\n\u001b[0;32m    241\u001b[0m             \u001b[1;32mraise\u001b[0m \u001b[0mexception_class\u001b[0m\u001b[1;33m(\u001b[0m\u001b[0mmessage\u001b[0m\u001b[1;33m,\u001b[0m \u001b[0mscreen\u001b[0m\u001b[1;33m,\u001b[0m \u001b[0mstacktrace\u001b[0m\u001b[1;33m,\u001b[0m \u001b[0malert_text\u001b[0m\u001b[1;33m)\u001b[0m\u001b[1;33m\u001b[0m\u001b[1;33m\u001b[0m\u001b[0m\n\u001b[1;32m--> 242\u001b[1;33m         \u001b[1;32mraise\u001b[0m \u001b[0mexception_class\u001b[0m\u001b[1;33m(\u001b[0m\u001b[0mmessage\u001b[0m\u001b[1;33m,\u001b[0m \u001b[0mscreen\u001b[0m\u001b[1;33m,\u001b[0m \u001b[0mstacktrace\u001b[0m\u001b[1;33m)\u001b[0m\u001b[1;33m\u001b[0m\u001b[1;33m\u001b[0m\u001b[0m\n\u001b[0m\u001b[0;32m    243\u001b[0m \u001b[1;33m\u001b[0m\u001b[0m\n\u001b[0;32m    244\u001b[0m     \u001b[1;32mdef\u001b[0m \u001b[0m_value_or_default\u001b[0m\u001b[1;33m(\u001b[0m\u001b[0mself\u001b[0m\u001b[1;33m,\u001b[0m \u001b[0mobj\u001b[0m\u001b[1;33m,\u001b[0m \u001b[0mkey\u001b[0m\u001b[1;33m,\u001b[0m \u001b[0mdefault\u001b[0m\u001b[1;33m)\u001b[0m\u001b[1;33m:\u001b[0m\u001b[1;33m\u001b[0m\u001b[1;33m\u001b[0m\u001b[0m\n",
      "\u001b[1;31mNoSuchElementException\u001b[0m: Message: Unable to locate element: ng-click\n"
     ]
    }
   ],
   "source": [
    "driver.find_element(By.PARTIAL_LINK_TEXT,\"ng-click\").click()"
   ]
  }
 ],
 "metadata": {
  "kernelspec": {
   "display_name": "Python 3",
   "language": "python",
   "name": "python3"
  },
  "language_info": {
   "codemirror_mode": {
    "name": "ipython",
    "version": 3
   },
   "file_extension": ".py",
   "mimetype": "text/x-python",
   "name": "python",
   "nbconvert_exporter": "python",
   "pygments_lexer": "ipython3",
   "version": "3.7.6"
  },
  "toc": {
   "base_numbering": 1,
   "nav_menu": {},
   "number_sections": true,
   "sideBar": true,
   "skip_h1_title": false,
   "title_cell": "Table of Contents",
   "title_sidebar": "Contents",
   "toc_cell": false,
   "toc_position": {},
   "toc_section_display": true,
   "toc_window_display": true
  },
  "varInspector": {
   "cols": {
    "lenName": 16,
    "lenType": 16,
    "lenVar": 40
   },
   "kernels_config": {
    "python": {
     "delete_cmd_postfix": "",
     "delete_cmd_prefix": "del ",
     "library": "var_list.py",
     "varRefreshCmd": "print(var_dic_list())"
    },
    "r": {
     "delete_cmd_postfix": ") ",
     "delete_cmd_prefix": "rm(",
     "library": "var_list.r",
     "varRefreshCmd": "cat(var_dic_list()) "
    }
   },
   "types_to_exclude": [
    "module",
    "function",
    "builtin_function_or_method",
    "instance",
    "_Feature"
   ],
   "window_display": false
  }
 },
 "nbformat": 4,
 "nbformat_minor": 2
}
